{
  "nbformat": 4,
  "nbformat_minor": 0,
  "metadata": {
    "colab": {
      "provenance": [],
      "collapsed_sections": [
        "T7Ryg7xBuB3Q",
        "_-qatKdfuq_U",
        "IO0mFSIuu6nP",
        "eFoFSAzFwsZa",
        "huh4vTd0xaBw"
      ]
    },
    "kernelspec": {
      "name": "python3",
      "display_name": "Python 3"
    },
    "language_info": {
      "name": "python"
    }
  },
  "cells": [
    {
      "cell_type": "markdown",
      "source": [
        "# Principio SOLID"
      ],
      "metadata": {
        "id": "lUtNTKnWtv4G"
      }
    },
    {
      "cell_type": "markdown",
      "source": [
        "Material proporcionado por el Prof. Daniel Salazar Mora."
      ],
      "metadata": {
        "id": "Otefm3WmtyRm"
      }
    },
    {
      "cell_type": "markdown",
      "source": [
        "## Breve Descripción"
      ],
      "metadata": {
        "id": "CPN1tJ3Tt04k"
      }
    },
    {
      "cell_type": "markdown",
      "source": [
        "* Los principios **SOLID** son un conjunto de cinco directrices de diseño de software que ayudan a los desarrolladores a crear sistemas más mantenibles, escalables y flexibles\n",
        "\n",
        "* *¿Cuándo se recomienda más usar SOLID?*\n",
        "\n",
        " * Proyectos grandes: Donde el mantenimiento y la escalabilidad son críticos.\n",
        "\n",
        " * Equipos de desarrollo: Para facilitar la colaboración y la comprensión del código.\n",
        "\n",
        " * Proyectos a largo plazo: Donde es probable que el código evolucione con el tiempo.\n"
      ],
      "metadata": {
        "id": "ZFoUJBf9t4o2"
      }
    },
    {
      "cell_type": "markdown",
      "source": [
        "## Single Responsability Principle (SRP)"
      ],
      "metadata": {
        "id": "T7Ryg7xBuB3Q"
      }
    },
    {
      "cell_type": "markdown",
      "source": [
        "* Cada clase o módulo debe tener una **única responsabilidad**. Es decir, debe hacer una sola cosa y hacerla bien.\n",
        "\n",
        "* Si una clase tiene múltiples responsabilidades, cualquier cambio en una de ellas podría afectar a las otras, lo que dificulta el mantenimiento.\n",
        "\n",
        "* **Importancia**\n",
        " * Facilita la lectura y comprensión del código.\n",
        " * Reduce el acoplamiento entre componentes.\n",
        " * Simplifica las pruebas unitarias."
      ],
      "metadata": {
        "id": "99jBmLDYuJHW"
      }
    },
    {
      "cell_type": "code",
      "execution_count": 1,
      "metadata": {
        "id": "tWscmW80tq1s"
      },
      "outputs": [],
      "source": [
        "\"\"\"\n",
        "En este ejemplo, podemos ver el problema de que Report hace varias tareas.\n",
        "\n",
        "Aqui NO se cumple SRP\n",
        "\n",
        "\"\"\"\n",
        "class Report:\n",
        "    def generate(self, data):\n",
        "        # Genera un informe\n",
        "        pass\n",
        "\n",
        "    def save_to_file(self, report, filename):\n",
        "        # Guarda el informe en un archivo\n",
        "        pass"
      ]
    },
    {
      "cell_type": "code",
      "source": [
        "\"\"\"\n",
        "La solución es separar las tareas en distintas clases\n",
        "\"\"\"\n",
        "class Report:\n",
        "    def generate(self, data):\n",
        "        # Genera un informe\n",
        "        pass\n",
        "\n",
        "class ReportSaver:\n",
        "    def save_to_file(self, report, filename):\n",
        "        # Guarda el informe en un archivo\n",
        "        pass"
      ],
      "metadata": {
        "id": "KGiBYIeUuh4X"
      },
      "execution_count": 2,
      "outputs": []
    },
    {
      "cell_type": "markdown",
      "source": [
        "## Open/Closed Principle (OCP)"
      ],
      "metadata": {
        "id": "_-qatKdfuq_U"
      }
    },
    {
      "cell_type": "markdown",
      "source": [
        "* Debes poder extender el comportamiento de una clase sin modificar su código existente.\n",
        "\n",
        "* Esto se logra mediante el uso de abstracciones (clases base, interfaces).\n",
        "\n",
        "* **Importancia**\n",
        " * Reduce el riesgo de introducir errores al modificar código existente.\n",
        "\n",
        " * Facilita la adición de nuevas funcionalidades."
      ],
      "metadata": {
        "id": "MlQR5-Sdut1Q"
      }
    },
    {
      "cell_type": "code",
      "source": [
        "\"\"\"\n",
        "En este ejemplo SI se cumple OCP porque podemos indefinidamente seguir agregando\n",
        "neuvas implementaciones del Notifier sin necesidad de modificar las anteriores.\n",
        "\"\"\"\n",
        "\n",
        "from abc import ABC, abstractmethod\n",
        "\n",
        "# Clase base que sigue el OCP\n",
        "class Notifier(ABC):\n",
        "    @abstractmethod\n",
        "    def send(self, message: str):\n",
        "        pass\n",
        "\n",
        "\n",
        "# Implementación para enviar notificaciones por correo electrónico\n",
        "class EmailNotifier(Notifier):\n",
        "    def send(self, message: str):\n",
        "        print(f\"Sending email: {message}\")\n",
        "\n",
        "\n",
        "# Implementación para enviar notificaciones por SMS\n",
        "class SMSNotifier(Notifier):\n",
        "    def send(self, message: str):\n",
        "        print(f\"Sending SMS: {message}\")\n",
        "\n",
        "\n",
        "# Implementación para enviar notificaciones por WhatsApp\n",
        "class WhatsAppNotifier(Notifier):\n",
        "    def send(self, message: str):\n",
        "        print(f\"Sending WhatsApp message: {message}\")\n",
        "\n",
        "\n",
        "# Clase que usa notificaciones (abierta para extensión, cerrada para modificación)\n",
        "class NotificationManager:\n",
        "    def __init__(self, notifiers: list[Notifier]):\n",
        "        self.notifiers = notifiers\n",
        "\n",
        "    def send_notification(self, message: str):\n",
        "        for notifier in self.notifiers:\n",
        "            notifier.send(message)\n",
        "\n",
        "\n",
        "# Uso del sistema de notificaciones\n",
        "if __name__ == \"__main__\":\n",
        "    # Crear notificadores\n",
        "    email_notifier = EmailNotifier()\n",
        "    sms_notifier = SMSNotifier()\n",
        "    whatsapp_notifier = WhatsAppNotifier()\n",
        "\n",
        "    # Configurar el administrador de notificaciones\n",
        "    notification_manager = NotificationManager([email_notifier, sms_notifier, whatsapp_notifier])\n",
        "\n",
        "    # Enviar una notificación\n",
        "    notification_manager.send_notification(\"Hello, this is a notification!\")"
      ],
      "metadata": {
        "colab": {
          "base_uri": "https://localhost:8080/"
        },
        "id": "N7UXCvp7u6fy",
        "outputId": "1b281cd6-0df0-4523-b84f-2751b74b7371"
      },
      "execution_count": 5,
      "outputs": [
        {
          "output_type": "stream",
          "name": "stdout",
          "text": [
            "Sending email: Hello, this is a notification!\n",
            "Sending SMS: Hello, this is a notification!\n",
            "Sending WhatsApp message: Hello, this is a notification!\n"
          ]
        }
      ]
    },
    {
      "cell_type": "markdown",
      "source": [
        "## Liskov Substitution Principle (LSP)"
      ],
      "metadata": {
        "id": "IO0mFSIuu6nP"
      }
    },
    {
      "cell_type": "markdown",
      "source": [
        "* *Las clases derivadas deben poder sustituir a sus clases base sin alterar el comportamiento del programa.*\n",
        "\n",
        "* Si una clase B es una subclase de A, entonces deberías poder usar B en cualquier lugar donde se espera A sin que el programa falle o se comporte de manera inesperada.\n",
        "\n",
        "* **Importancia**\n",
        " * Garantiza que la herencia se use correctamente.\n",
        "\n",
        " * Evita comportamientos inesperados en el código."
      ],
      "metadata": {
        "id": "k0aSkhC3u_n2"
      }
    },
    {
      "cell_type": "code",
      "source": [
        "\"\"\"\n",
        "Las avestruces no vuelan, entonces realmente tiene sentido esta jerarquía de\n",
        "clases? Si funciona con Sparrow, pero...\n",
        "\n",
        "Aqui el principio NO se cumple en el caso de Ostrich.\n",
        "\n",
        "\"\"\"\n",
        "class Bird:\n",
        "    def fly(self):\n",
        "        pass\n",
        "\n",
        "class Sparrow(Bird):\n",
        "    def fly(self):\n",
        "        return \"Flying high!\"\n",
        "\n",
        "class Ostrich(Bird):\n",
        "    def fly(self):\n",
        "        raise NotImplementedError(\"Ostriches can't fly!\")"
      ],
      "metadata": {
        "id": "sKQ_l8_vu_uh"
      },
      "execution_count": 3,
      "outputs": []
    },
    {
      "cell_type": "code",
      "source": [
        "\"\"\"\n",
        "¿Una posible solución? Crear otra clase base para aquellas aves que no vuelan.\n",
        "\"\"\"\n",
        "from abc import ABC, abstractmethod\n",
        "\n",
        "# Clase base para aves que pueden volar\n",
        "class FlyingBird(ABC):\n",
        "    @abstractmethod\n",
        "    def fly(self):\n",
        "        pass\n",
        "\n",
        "\n",
        "# Clase base para aves que no pueden volar\n",
        "class NonFlyingBird(ABC):\n",
        "    @abstractmethod\n",
        "    def walk(self):\n",
        "        pass\n",
        "\n",
        "\n",
        "# Implementación para un ave que vuela\n",
        "class Sparrow(FlyingBird):\n",
        "    def fly(self):\n",
        "        return \"Flying high!\"\n",
        "\n",
        "\n",
        "# Implementación para un ave que no vuela\n",
        "class Ostrich(NonFlyingBird):\n",
        "    def walk(self):\n",
        "        return \"Walking slowly...\"\n",
        "\n",
        "\n",
        "# Uso del sistema\n",
        "if __name__ == \"__main__\":\n",
        "    sparrow = Sparrow()\n",
        "    ostrich = Ostrich()\n",
        "\n",
        "    print(sparrow.fly())  # Output: Flying high!\n",
        "    print(ostrich.walk())  # Output: Walking slowly..."
      ],
      "metadata": {
        "colab": {
          "base_uri": "https://localhost:8080/"
        },
        "id": "cru4IvRYwb2h",
        "outputId": "0d5f00ee-6ad7-44e4-b928-3cb4e92ea92b"
      },
      "execution_count": 4,
      "outputs": [
        {
          "output_type": "stream",
          "name": "stdout",
          "text": [
            "Flying high!\n",
            "Walking slowly...\n"
          ]
        }
      ]
    },
    {
      "cell_type": "markdown",
      "source": [
        "## Interface Segregation Principle (ISP)"
      ],
      "metadata": {
        "id": "eFoFSAzFwsZa"
      }
    },
    {
      "cell_type": "markdown",
      "source": [
        "* *Los clientes no deben depender de interfaces que no usan.*\n",
        "\n",
        "* Las interfaces deben ser específicas para las necesidades del cliente. Evita crear interfaces con muchos métodos.\n",
        "\n",
        "* **Importancia**\n",
        " * Reduce el acoplamiento entre clases.\n",
        "\n",
        " * Facilita la implementación de interfaces."
      ],
      "metadata": {
        "id": "x5jEAJgfwxFF"
      }
    },
    {
      "cell_type": "code",
      "source": [
        "from abc import ABC, abstractmethod\n",
        "\n",
        "# Interfaz para imprimir\n",
        "class Printer(ABC):\n",
        "    @abstractmethod\n",
        "    def print(self, document):\n",
        "        pass\n",
        "\n",
        "\n",
        "# Interfaz para escanear\n",
        "class Scanner(ABC):\n",
        "    @abstractmethod\n",
        "    def scan(self, document):\n",
        "        pass\n",
        "\n",
        "\n",
        "# Impresora básica que solo imprime\n",
        "class BasicPrinter(Printer):\n",
        "    def print(self, document):\n",
        "        print(f\"Printing: {document}\")\n",
        "\n",
        "\n",
        "# Impresora multifunción que imprime y escanea\n",
        "class MultiFunctionPrinter(Printer, Scanner):\n",
        "    def print(self, document):\n",
        "        print(f\"Printing: {document}\")\n",
        "\n",
        "    def scan(self, document):\n",
        "        print(f\"Scanning: {document}\")\n",
        "\n",
        "\n",
        "# Uso del sistema\n",
        "if __name__ == \"__main__\":\n",
        "    basic_printer = BasicPrinter()\n",
        "    multi_function_printer = MultiFunctionPrinter()\n",
        "\n",
        "    basic_printer.print(\"My Document\")  # Funciona\n",
        "    # basic_printer.scan(\"My Document\")  # Error: BasicPrinter no tiene método scan\n",
        "\n",
        "    multi_function_printer.print(\"My Document\")  # Funciona\n",
        "    multi_function_printer.scan(\"My Document\")  # Funciona"
      ],
      "metadata": {
        "id": "uNhWR6LFwxKz"
      },
      "execution_count": null,
      "outputs": []
    },
    {
      "cell_type": "markdown",
      "source": [
        "## Dependency Inversion Principle (DIP)"
      ],
      "metadata": {
        "id": "huh4vTd0xaBw"
      }
    },
    {
      "cell_type": "markdown",
      "source": [
        "* *Los módulos de alto nivel no deben depender de módulos de bajo nivel. Ambos deben depender de abstracciones.*\n",
        "\n",
        "* Las clases deben depender de abstracciones (interfaces o clases base) en lugar de implementaciones concretas.\n",
        "\n",
        "* Esto permite cambiar las implementaciones sin afectar el código de alto nivel.\n",
        "\n",
        "* **Importancia**\n",
        " * Facilita la sustitución de componentes.\n",
        "\n",
        " * Promueve el desacoplamiento."
      ],
      "metadata": {
        "id": "iJ9biZvUzC7L"
      }
    },
    {
      "cell_type": "code",
      "source": [
        "from abc import ABC, abstractmethod\n",
        "\n",
        "# Abstracción (interfaz)\n",
        "class Notifier(ABC):\n",
        "    @abstractmethod\n",
        "    def send(self, message: str):\n",
        "        pass\n",
        "\n",
        "\n",
        "# Módulo de bajo nivel (depende de la abstracción)\n",
        "class EmailSender(Notifier):\n",
        "    def send(self, message: str):\n",
        "        print(f\"Sending email: {message}\")\n",
        "\n",
        "\n",
        "# Módulo de bajo nivel alternativo (depende de la abstracción)\n",
        "class SMSSender(Notifier):\n",
        "    def send(self, message: str):\n",
        "        print(f\"Sending SMS: {message}\")\n",
        "\n",
        "\n",
        "# Módulo de alto nivel (depende de la abstracción, no de implementaciones concretas)\n",
        "class NotificationService:\n",
        "    def __init__(self, notifier: Notifier):\n",
        "        self.notifier = notifier\n",
        "\n",
        "    def send_notification(self, message: str):\n",
        "        self.notifier.send(message)\n",
        "\n",
        "\n",
        "# Uso del sistema\n",
        "if __name__ == \"__main__\":\n",
        "    email_sender = EmailSender()\n",
        "    sms_sender = SMSSender()\n",
        "\n",
        "    # NotificationService depende de la abstracción Notifier\n",
        "    email_notification_service = NotificationService(email_sender)\n",
        "    sms_notification_service = NotificationService(sms_sender)\n",
        "\n",
        "    email_notification_service.send_notification(\"Hello via Email!\")\n",
        "    sms_notification_service.send_notification(\"Hello via SMS!\")"
      ],
      "metadata": {
        "id": "xPEuCP-XzDAd"
      },
      "execution_count": null,
      "outputs": []
    }
  ]
}