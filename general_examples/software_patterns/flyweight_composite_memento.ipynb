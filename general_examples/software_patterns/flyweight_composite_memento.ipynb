{
 "cells": [
  {
   "cell_type": "markdown",
   "metadata": {},
   "source": [
    "# Memento, Composite y Flyweight para un Programa de Editor Gráfico\n",
    "\n",
    "Este notebook implementa un editor gráfico que utiliza los siguientes **tres patrones de diseño**:\n",
    "\n",
    "1. **Memento**: para guardar/restaurar el estado del editor.\n",
    "2. **Composite**: para tratar objetos individuales y grupos de objetos de forma uniforme.\n",
    "3. **Flyweight**: para compartir datos entre múltiples objetos similares y reducir el uso de memoria.\n"
   ]
  },
  {
   "cell_type": "markdown",
   "metadata": {},
   "source": [
    "## Patrón: Memento\n",
    "\n",
    "**Definición**: Permite capturar y guardar el estado interno de un objeto sin violar su encapsulamiento, de modo que pueda restaurarse posteriormente.\n",
    "\n",
    "**Ventajas**:\n",
    "- Se pueden deshacer cambios fácilmente.\n",
    "- No se rompe el encapsulamiento del objeto original.\n",
    "\n",
    "**Desventajas**:\n",
    "- Puede consumir mucha memoria si el estado es grande o hay muchos guardados.\n",
    "\n",
    "**En este ejemplo**: El editor puede guardar su lista de formas antes de un cambio, y restaurarla si se desea deshacer."
   ]
  },
  {
   "cell_type": "code",
   "execution_count": 24,
   "metadata": {},
   "outputs": [],
   "source": [
    "import copy\n",
    "\n",
    "class EditorMemento:\n",
    "    def __init__(self, state):\n",
    "        # Se guarda una copia profunda del estado (lista de formas)\n",
    "        self._state = copy.deepcopy(state)\n",
    "\n",
    "    def get_state(self):\n",
    "        return self._state\n",
    "\n",
    "class History:\n",
    "    def __init__(self):\n",
    "        self._states = []\n",
    "\n",
    "    def push(self, memento):\n",
    "        self._states.append(memento)\n",
    "\n",
    "    def pop(self):\n",
    "        return self._states.pop() if self._states else None"
   ]
  },
  {
   "cell_type": "markdown",
   "metadata": {},
   "source": [
    "## Patrón: Composite\n",
    "\n",
    "**Definición**: Permite componer objetos en estructuras de árbol para representar jerarquías parte-todo. Trata objetos individuales y compuestos de forma uniforme.\n",
    "\n",
    "**Ventajas**:\n",
    "- Simplifica el código del cliente que usa estructuras jerárquicas.\n",
    "- Se puede tratar un grupo como si fuera un solo objeto.\n",
    "\n",
    "**Desventajas**:\n",
    "- Puede hacer más difícil restringir tipos específicos de componentes.\n",
    "\n",
    "**En este ejemplo**: Un `Group` de formas puede contener círculos, rectángulos u otros grupos.\n",
    "El editor puede manejar cualquier `Shape` (individual o compuesta) con una sola interfaz."
   ]
  },
  {
   "cell_type": "code",
   "execution_count": 25,
   "metadata": {},
   "outputs": [],
   "source": [
    "from abc import ABC, abstractmethod\n",
    "\n",
    "# Interfaz base común\n",
    "class Shape(ABC):\n",
    "    @abstractmethod\n",
    "    def draw(self):\n",
    "        pass\n",
    "\n",
    "# Clase para círculos\n",
    "class Circle(Shape):\n",
    "    def __init__(self, x: int, y: int, radius: int, color: str):\n",
    "        self.x = x\n",
    "        self.y = y\n",
    "        self.radius = radius\n",
    "        self.color = color  # Este atributo será compartido (Flyweight)\n",
    "\n",
    "    def draw(self):\n",
    "        print(f\"Dibuja Círculo en ({self.x}, {self.y}), radio {self.radius}, color {self.color}\")\n",
    "\n",
    "# Grupo de formas (puede contener otras formas o grupos)\n",
    "class Group(Shape):\n",
    "    def __init__(self):\n",
    "        self.children: list[Shape] = []\n",
    "\n",
    "    def add(self, shape: Shape):\n",
    "        self.children.append(shape)\n",
    "\n",
    "    def draw(self):\n",
    "        print(\"Dibuja Grupo:\")\n",
    "        for child in self.children:\n",
    "            child.draw()"
   ]
  },
  {
   "cell_type": "markdown",
   "metadata": {},
   "source": [
    "## Patrón: Flyweight\n",
    "\n",
    "**Definición**: Permite compartir objetos entre instancias para reducir el uso de memoria. Los datos compartidos (intrínsecos) se reutilizan entre objetos similares.\n",
    "\n",
    "**Ventajas**:\n",
    "- Ahorro de memoria significativo al compartir datos comunes.\n",
    "- Ideal para manejar miles de objetos similares (como en un editor gráfico).\n",
    "\n",
    "**Desventajas**:\n",
    "- Puede ser más difícil de depurar y entender.\n",
    "- Introduce complejidad al separar estado intrínseco y extrínseco.\n",
    "\n",
    "**En este ejemplo**: Usamos una fábrica (`ShapeColorFactory`) para compartir colores entre círculos que usan el mismo color."
   ]
  },
  {
   "cell_type": "code",
   "execution_count": 26,
   "metadata": {},
   "outputs": [],
   "source": [
    "class ShapeColorFactory:\n",
    "    def __init__(self):\n",
    "        # Diccionario para compartir colores entre formas\n",
    "        self._shared_colors: dict[str, str] = {}\n",
    "\n",
    "    def get_color(self, color: str) -> str:\n",
    "        if color not in self._shared_colors:\n",
    "            self._shared_colors[color] = color  # En la práctica podría ser un objeto más complejo\n",
    "        return self._shared_colors[color]"
   ]
  },
  {
   "cell_type": "markdown",
   "metadata": {},
   "source": [
    "## Clase Editor que integra los tres patrones\n",
    "\n",
    "- Usa **Memento** para guardar/restaurar el estado.\n",
    "- Maneja **Shape** y **Group** gracias a Composite.\n",
    "- Usa **ShapeColorFactory** para reutilizar colores (Flyweight)."
   ]
  },
  {
   "cell_type": "code",
   "execution_count": 27,
   "metadata": {},
   "outputs": [],
   "source": [
    "class Editor:\n",
    "    def __init__(self):\n",
    "        self.shapes: list[Shape] = []\n",
    "        self.factory = ShapeColorFactory()\n",
    "\n",
    "    def add_circle(self, x: int, y: int, radius: int, color: str):\n",
    "        shared_color = self.factory.get_color(color)\n",
    "        self.shapes.append(Circle(x, y, radius, shared_color))\n",
    "\n",
    "    def add_shape(self, shape: Shape):\n",
    "        self.shapes.append(shape)\n",
    "\n",
    "    def draw(self):\n",
    "        print(\"Editor actual:\")\n",
    "        for shape in self.shapes:\n",
    "            shape.draw()\n",
    "\n",
    "    def create_memento(self):\n",
    "        return EditorMemento(self.shapes)\n",
    "\n",
    "    def restore(self, memento):\n",
    "        self.shapes = memento.get_state()"
   ]
  },
  {
   "cell_type": "code",
   "execution_count": 28,
   "metadata": {},
   "outputs": [
    {
     "name": "stdout",
     "output_type": "stream",
     "text": [
      "Editor actual:\n",
      "Dibuja Círculo en (10, 10), radio 5, color red\n",
      "Dibuja Círculo en (20, 20), radio 10, color red\n",
      "Dibuja Grupo:\n",
      "Dibuja Círculo en (1, 2), radio 3, color blue\n",
      "Dibuja Círculo en (4, 5), radio 6, color blue\n",
      "\n",
      "Después de deshacer:\n",
      "Editor actual:\n",
      "Dibuja Círculo en (10, 10), radio 5, color red\n",
      "Dibuja Círculo en (20, 20), radio 10, color red\n"
     ]
    }
   ],
   "source": [
    "# Ejemplo de uso del editor con los tres patrones\n",
    "editor = Editor()\n",
    "history = History()\n",
    "\n",
    "# Agregamos formas individuales\n",
    "editor.add_circle(10, 10, 5, \"red\")\n",
    "editor.add_circle(20, 20, 10, \"red\")  # Reutiliza el mismo color (Flyweight)\n",
    "\n",
    "# Guardamos estado (Memento)\n",
    "history.push(editor.create_memento())\n",
    "\n",
    "# Agregamos un grupo\n",
    "group = Group()\n",
    "group.add(Circle(1, 2, 3, \"blue\"))\n",
    "group.add(Circle(4, 5, 6, \"blue\"))\n",
    "editor.add_shape(group)\n",
    "\n",
    "# Dibujamos\n",
    "editor.draw()\n",
    "\n",
    "# Deshacer\n",
    "editor.restore(history.pop())\n",
    "print(\"\\nDespués de deshacer:\")\n",
    "editor.draw()"
   ]
  }
 ],
 "metadata": {
  "kernelspec": {
   "display_name": "Python 3",
   "language": "python",
   "name": "python3"
  },
  "language_info": {
   "name": "python"
  }
 },
 "nbformat": 4,
 "nbformat_minor": 2
}
