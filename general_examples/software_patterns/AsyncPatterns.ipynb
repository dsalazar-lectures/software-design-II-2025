{
 "cells": [
  {
   "cell_type": "markdown",
   "id": "b4fc7eac",
   "metadata": {},
   "source": [
    "# Concurrencia y Paralelismo"
   ]
  },
  {
   "cell_type": "markdown",
   "id": "a70d5b64",
   "metadata": {},
   "source": [
    "## **Concurrencia**  \n",
    "\n",
    "Ejecutar múltiples tareas en períodos solapados (no necesariamente simultáneo)"
   ]
  },
  {
   "cell_type": "markdown",
   "id": "4acea12d",
   "metadata": {},
   "source": [
    "### 1. Descomposición de Datos\n",
    "\n",
    "**Propósito**: Dividir un conjunto de datos en partes independientes para procesamiento concurrente.\n",
    "\n",
    "**Ventajas:**\n",
    "\n",
    "* Aprovecha múltiples núcleos de CPU\n",
    "* Escala bien con grandes volúmenes de datos\n",
    "\n",
    "**Desventajas:**\n",
    "\n",
    "* Requiere que los datos sean divisibles\n",
    "* Puede generar overhead por sincronización\n",
    "\n",
    "**Caso de uso:** Procesamiento de imágenes por bloques o análisis de datasets grandes."
   ]
  },
  {
   "cell_type": "code",
   "execution_count": 26,
   "id": "d47af727",
   "metadata": {},
   "outputs": [
    {
     "name": "stdout",
     "output_type": "stream",
     "text": [
      "Procesando chunk: [0, 3, 6, 9]\n",
      "Procesando chunk: [1, 4, 7]\n",
      "Procesando chunk: [2, 5, 8]\n"
     ]
    }
   ],
   "source": [
    "import threading\n",
    "\n",
    "def process_chunk(data_chunk):\n",
    "    print(f\"Procesando chunk: {data_chunk}\")\n",
    "\n",
    "data = list(range(10))\n",
    "chunks = [data[i::3] for i in range(3)]  # Divide en 3 partes\n",
    "\n",
    "threads = []\n",
    "for chunk in chunks:\n",
    "    t = threading.Thread(target=process_chunk, args=(chunk,))\n",
    "    threads.append(t)\n",
    "    t.start()\n",
    "\n",
    "for t in threads:\n",
    "    t.join()"
   ]
  },
  {
   "cell_type": "markdown",
   "id": "cc8e7d87",
   "metadata": {},
   "source": [
    "### 2. Objeto Activo (Active Object)\n",
    "\n",
    "**Propósito:** Encapsular tareas concurrentes en objetos que manejan su propio hilo de ejecución.\n",
    "\n",
    "**Ventajas:**\n",
    "\n",
    "* Oculta la complejidad de la concurrencia\n",
    "* Permite colas de tareas ordenadas\n",
    "\n",
    "**Desventajas:**\n",
    "\n",
    "* Overhead por gestión de hilos\n",
    "* Complejidad en el manejo de errores\n",
    "\n",
    "**Caso de uso:** Sistemas de mensajería asíncrona o servidores de tareas en segundo plano."
   ]
  },
  {
   "cell_type": "code",
   "execution_count": null,
   "id": "1a53b013",
   "metadata": {},
   "outputs": [
    {
     "name": "stdout",
     "output_type": "stream",
     "text": [
      "Tarea ejecutada concurrentemente\n"
     ]
    }
   ],
   "source": [
    "from queue import Queue\n",
    "from threading import Thread\n",
    "\n",
    "class ActiveObject:\n",
    "    def __init__(self):\n",
    "        self._queue = Queue()\n",
    "        self._thread = Thread(target=self._run)\n",
    "        self._thread.start()\n",
    "    \n",
    "    def _run(self):\n",
    "        while True:\n",
    "            task = self._queue.get()\n",
    "            if task == 'STOP': break\n",
    "            task()\n",
    "    \n",
    "    def submit(self, task):\n",
    "        self._queue.put(task)\n",
    "    \n",
    "    def shutdown(self):\n",
    "        self._queue.put('STOP')\n",
    "\n",
    "obj = ActiveObject()\n",
    "obj.submit(lambda: print(\"Tarea ejecutada concurrentemente\"))\n",
    "obj.shutdown()"
   ]
  },
  {
   "cell_type": "markdown",
   "id": "79b2801e",
   "metadata": {},
   "source": [
    "### 3. Half-Sync/Half-Async\n",
    " \n",
    "**Propósito:** Separar la E/S (entrada/salida, I/O) asíncrona del procesamiento síncrono.\n",
    "\n",
    "**Ventajas:**\n",
    "\n",
    "* Combina eficiencia de E/S no bloqueante con simplicidad de código síncrono\n",
    "* Ideal para servidores de red\n",
    "\n",
    "**Desventajas:**\n",
    "\n",
    "* Complejidad en la coordinación entre capas\n",
    "* Overhead por cambio de contexto\n",
    "\n",
    "**Caso de uso:** Servidores web que manejan múltiples conexiones simultáneas."
   ]
  },
  {
   "cell_type": "code",
   "execution_count": null,
   "id": "bc73d6cf",
   "metadata": {},
   "outputs": [
    {
     "name": "stdout",
     "output_type": "stream",
     "text": [
      "Datos de https://api.example.com\n"
     ]
    }
   ],
   "source": [
    "import asyncio\n",
    "from concurrent.futures import ThreadPoolExecutor\n",
    "\n",
    "def fetch_sync(url):\n",
    "    # Simula operación bloqueante\n",
    "    import time\n",
    "    time.sleep(1)\n",
    "    return f\"Datos de {url}\"\n",
    "\n",
    "async def async_layer(url):\n",
    "    loop = asyncio.get_event_loop()\n",
    "    with ThreadPoolExecutor() as pool:\n",
    "        response = await loop.run_in_executor(pool, fetch_sync, url)\n",
    "        return response\n",
    "\n",
    "result = await async_layer(\"https://api.example.com\")\n",
    "print(result)"
   ]
  },
  {
   "cell_type": "markdown",
   "id": "998be93b",
   "metadata": {},
   "source": [
    "## **Paralelismo**  \n",
    "\n",
    "Ejecución simultánea en múltiples núcleos"
   ]
  },
  {
   "cell_type": "markdown",
   "id": "1696b22c",
   "metadata": {},
   "source": [
    "### 1. Divide y Vencerás\n",
    "\n",
    "**Propósito:** Paralelizar algoritmos recursivos dividiendo problemas en subproblemas independientes.\n",
    "\n",
    "**Ventajas:**\n",
    "\n",
    "* Escalabilidad natural\n",
    "* Aprovecha múltiples núcleos eficientemente\n",
    "\n",
    "**Desventajas:**\n",
    "\n",
    "* Overhead por división/unión de resultados\n",
    "* No apto para problemas no divisibles\n",
    "\n",
    "**Caso de uso:** Algoritmos de ordenación (MergeSort) o búsqueda en árboles."
   ]
  },
  {
   "cell_type": "code",
   "execution_count": 29,
   "id": "c1038317",
   "metadata": {},
   "outputs": [
    {
     "name": "stdout",
     "output_type": "stream",
     "text": [
      "Ordenando 1,000,000 elementos...\n",
      "Tiempo total: 1.71 segundos\n",
      "Primeros 10: [0, 0, 2, 3, 4, 5, 5, 7, 7, 8]\n"
     ]
    }
   ],
   "source": [
    "from multiprocessing import Pool\n",
    "import random\n",
    "\n",
    "def merge(left, right):\n",
    "    \"\"\"Merge eficiente con iteradores (optimizado)\"\"\"\n",
    "    result = []\n",
    "    i = j = 0\n",
    "    len_left, len_right = len(left), len(right)\n",
    "    while i < len_left and j < len_right:\n",
    "        if left[i] <= right[j]:  # <= para estabilidad\n",
    "            result.append(left[i])\n",
    "            i += 1\n",
    "        else:\n",
    "            result.append(right[j])\n",
    "            j += 1\n",
    "    result.extend(left[i:])\n",
    "    result.extend(right[j:])\n",
    "    return result\n",
    "\n",
    "def sequential_merge_sort(data):\n",
    "    \"\"\"Versión secuencial para tamaños pequeños\"\"\"\n",
    "    if len(data) <= 1:\n",
    "        return data\n",
    "    mid = len(data) // 2\n",
    "    left = sequential_merge_sort(data[:mid])\n",
    "    right = sequential_merge_sort(data[mid:])\n",
    "    return merge(left, right)\n",
    "\n",
    "def parallel_merge_sort(data):\n",
    "    \"\"\"Versión paralela con optimizaciones clave\"\"\"\n",
    "    if len(data) <= 1_000_000:  # Umbral ajustado\n",
    "        return sequential_merge_sort(data)\n",
    "    \n",
    "    # Divide en 4 partes para mejor balanceo\n",
    "    chunk_size = len(data) // 4\n",
    "    chunks = [data[i*chunk_size:(i+1)*chunk_size] for i in range(4)]\n",
    "    \n",
    "    with Pool(4) as pool:  # Usa 4 procesos (ideal para 4 núcleos)\n",
    "        sorted_chunks = pool.map(sequential_merge_sort, chunks)\n",
    "    \n",
    "    # Merge jerárquico (reduce llamadas a merge)\n",
    "    return merge(\n",
    "        merge(sorted_chunks[0], sorted_chunks[1]),\n",
    "        merge(sorted_chunks[2], sorted_chunks[3])\n",
    "    )\n",
    "\n",
    "# Generación de datos optimizada\n",
    "big_data = random.choices(range(1_000_000), k=1_000_000)  # Más rápido que randint\n",
    "\n",
    "# Benchmark\n",
    "import time\n",
    "print(\"Ordenando 1,000,000 elementos...\")\n",
    "start = time.time()\n",
    "sorted_data = parallel_merge_sort(big_data)\n",
    "end = time.time()\n",
    "\n",
    "print(f\"Tiempo total: {end - start:.2f} segundos\")\n",
    "print(\"Primeros 10:\", sorted_data[:10])"
   ]
  },
  {
   "cell_type": "markdown",
   "id": "10ae2d01",
   "metadata": {},
   "source": [
    "### 2. Descomposición Geométrica\n",
    "\n",
    "**Propósito:** Paralelizar operaciones sobre estructuras espaciales (matrices, grids).\n",
    "\n",
    "**Ventajas:**\n",
    "\n",
    "* Localidad de datos mejorada\n",
    "* Balance de carga predecible\n",
    "\n",
    "**Desventajas:**\n",
    "\n",
    "* Depende de la estructura del problema\n",
    "* Dificultad con datos irregulares\n",
    "\n",
    "**Caso de uso:** Simulaciones físicas o procesamiento de imágenes/matrices."
   ]
  },
  {
   "cell_type": "code",
   "execution_count": 30,
   "id": "4a8fb657",
   "metadata": {},
   "outputs": [
    {
     "name": "stdout",
     "output_type": "stream",
     "text": [
      "[[286 250  26 242]\n",
      " [408 424  28 322]\n",
      " [464 458 240 406]\n",
      " [118 170 466  28]]\n"
     ]
    }
   ],
   "source": [
    "import numpy as np\n",
    "import concurrent.futures\n",
    "\n",
    "def process_region(region):\n",
    "    # Simula un procesamiento en una región de la imagen (por ejemplo, filtrado)\n",
    "    return region * 2\n",
    "\n",
    "image = np.random.randint(0, 255, (4, 4))  # Imagen de 4x4\n",
    "regions = np.vsplit(image, 2)  # Dividimos en 2 regiones horizontales\n",
    "\n",
    "with concurrent.futures.ThreadPoolExecutor() as executor:\n",
    "    results = executor.map(process_region, regions)\n",
    "\n",
    "new_image = np.vstack(list(results))\n",
    "print(new_image)\n"
   ]
  },
  {
   "cell_type": "markdown",
   "id": "5ab0c026",
   "metadata": {},
   "source": [
    "### 3. Coordinación por Eventos\n",
    "\n",
    "**Propósito:** Gestionar operaciones concurrentes mediante notificaciones de eventos.\n",
    "\n",
    "**Ventajas:**\n",
    "\n",
    "* Bajo consumo de recursos (1 hilo maneja múltiples tareas)\n",
    "* Escalabilidad para E/S\n",
    "\n",
    "**Desventajas:**\n",
    "\n",
    "* Complejidad en código CPU-bound\n",
    "\n",
    "**Caso de uso:** Servidores web, interfaces gráficas."
   ]
  },
  {
   "cell_type": "code",
   "execution_count": 31,
   "id": "616fdee8",
   "metadata": {},
   "outputs": [
    {
     "name": "stdout",
     "output_type": "stream",
     "text": [
      "Log: se recibió evento 'Robot detectó obstáculo'\n",
      "Alerta: 'Robot detectó obstáculo' activado\n"
     ]
    }
   ],
   "source": [
    "class EventManager:\n",
    "    def __init__(self):\n",
    "        self.subscribers = []\n",
    "\n",
    "    def subscribe(self, callback):\n",
    "        self.subscribers.append(callback)\n",
    "\n",
    "    def emit(self, data):\n",
    "        for callback in self.subscribers:\n",
    "            callback(data)\n",
    "\n",
    "# Subsistemas que reaccionan al evento\n",
    "def log_event(data):\n",
    "    print(f\"Log: se recibió evento '{data}'\")\n",
    "\n",
    "def alert_event(data):\n",
    "    print(f\"Alerta: '{data}' activado\")\n",
    "\n",
    "# Configuración\n",
    "event_manager = EventManager()\n",
    "event_manager.subscribe(log_event)\n",
    "event_manager.subscribe(alert_event)\n",
    "\n",
    "# Emisión del evento\n",
    "event_manager.emit(\"Robot detectó obstáculo\")\n"
   ]
  },
  {
   "cell_type": "markdown",
   "id": "66f2f927",
   "metadata": {},
   "source": [
    "## **Antipatrones Comunes**\n",
    "\n",
    "Ejemplo de race condition (Pueden notar que cada iteracion da un resultado distinto)"
   ]
  },
  {
   "cell_type": "code",
   "execution_count": 32,
   "id": "7962bf7e",
   "metadata": {},
   "outputs": [
    {
     "name": "stdout",
     "output_type": "stream",
     "text": [
      "Valor final del contador: 3\n"
     ]
    }
   ],
   "source": [
    "import threading\n",
    "import time\n",
    "import random\n",
    "\n",
    "counter = 0\n",
    "\n",
    "def increment():\n",
    "    global counter\n",
    "    value = counter\n",
    "    time.sleep(random.uniform(0, 0.001))  # Pausa intencional para forzar error\n",
    "    counter = value + 1\n",
    "\n",
    "threads = [threading.Thread(target=increment) for _ in range(20)]\n",
    "\n",
    "for t in threads:\n",
    "    t.start()\n",
    "for t in threads:\n",
    "    t.join()\n",
    "\n",
    "print(\"Valor final del contador:\", counter)\n"
   ]
  }
 ],
 "metadata": {
  "kernelspec": {
   "display_name": "Python 3",
   "language": "python",
   "name": "python3"
  },
  "language_info": {
   "codemirror_mode": {
    "name": "ipython",
    "version": 3
   },
   "file_extension": ".py",
   "mimetype": "text/x-python",
   "name": "python",
   "nbconvert_exporter": "python",
   "pygments_lexer": "ipython3",
   "version": "3.11.1"
  }
 },
 "nbformat": 4,
 "nbformat_minor": 5
}
