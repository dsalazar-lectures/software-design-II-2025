{
  "cells": [
    {
      "cell_type": "markdown",
      "metadata": {
        "id": "jwLKIFKqtrCj"
      },
      "source": [
        "#Patrones Factory y Abstract Factory"
      ]
    },
    {
      "cell_type": "markdown",
      "metadata": {
        "id": "rtABNBbWtw0y"
      },
      "source": [
        "## Introducción\n",
        "Los patrones de diseño **Factory** y **Abstract Factory** pertenecen a los **patrones creacionales**, cuyo objetivo es encapsular la creación de objetos.\n",
        "\n",
        "Estos patrones nos ayudan a separar la lógica de creación del uso de los objetos, promoviendo el principio de **Responsabilidad Única (SRP)** y el de **Abierto/Cerrado (OCP)**.\n"
      ]
    },
    {
      "cell_type": "markdown",
      "metadata": {
        "id": "6mv4VoIwt1ue"
      },
      "source": [
        "## Factory Method"
      ]
    },
    {
      "cell_type": "markdown",
      "metadata": {
        "id": "GgSvD9RVt2_6"
      },
      "source": [
        "### ¿Qué es?\n",
        "El **Factory Method** permite crear objetos sin especificar la clase exacta del objeto que se creará.\n",
        "\n",
        "### Ventajas\n",
        "- Fomenta bajo acoplamiento\n",
        "- Facilita la extensión del código\n",
        "- Centraliza la creación de objetos\n",
        "\n",
        "### Desventajas\n",
        "- Puede agregar complejidad si se abusa\n",
        "\n",
        "### Cuándo usarlo\n",
        "- Cuando no se sabe qué clase exacta de objeto se necesita hasta el tiempo de ejecución\n",
        "- Cuando se quiere delegar la responsabilidad de instanciación"
      ]
    },
    {
      "cell_type": "markdown",
      "metadata": {
        "id": "zavIL_llt76g"
      },
      "source": [
        "### Ejemplo"
      ]
    },
    {
      "cell_type": "code",
      "execution_count": null,
      "metadata": {
        "colab": {
          "base_uri": "https://localhost:8080/"
        },
        "id": "E9aIEVCtt66U",
        "outputId": "c9d8656f-a166-4ae2-919f-8e038fd7780d"
      },
      "outputs": [
        {
          "name": "stdout",
          "output_type": "stream",
          "text": [
            "Woof!\n"
          ]
        }
      ],
      "source": [
        "from abc import ABC, abstractmethod\n",
        "\n",
        "# Producto base\n",
        "class Animal(ABC):\n",
        "    @abstractmethod\n",
        "    def speak(self):\n",
        "        pass\n",
        "\n",
        "# Productos concretos\n",
        "class Dog(Animal):\n",
        "    def speak(self):\n",
        "        return \"Woof!\"\n",
        "\n",
        "class Cat(Animal):\n",
        "    def speak(self):\n",
        "        return \"Meow!\"\n",
        "\n",
        "# Factory Method\n",
        "class AnimalFactory:\n",
        "    def create_animal(self, animal_type: str) -> Animal:\n",
        "        if animal_type == \"dog\":\n",
        "            return Dog()\n",
        "        elif animal_type == \"cat\":\n",
        "            return Cat()\n",
        "        else:\n",
        "            raise ValueError(\"Animal no soportado\")\n",
        "\n",
        "# Uso\n",
        "factory = AnimalFactory()\n",
        "pet = factory.create_animal(\"dog\")\n",
        "print(pet.speak())  # Woof!"
      ]
    },
    {
      "cell_type": "markdown",
      "metadata": {
        "id": "Csm_7d85uAEa"
      },
      "source": [
        "## Abstract Factory"
      ]
    },
    {
      "cell_type": "markdown",
      "metadata": {
        "id": "w-JxFxD0uBWa"
      },
      "source": [
        "### ¿Qué es?\n",
        "El **Abstract Factory** provee una interfaz para crear **familias de objetos relacionados** sin especificar sus clases concretas.\n",
        "\n",
        "### Ventajas\n",
        "- Fácil de mantener y escalar\n",
        "- Permite la consistencia entre familias de productos\n",
        "\n",
        "### Desventajas\n",
        "- Más complejo de implementar\n",
        "- Puede generar muchas clases\n",
        "\n",
        "### Cuándo usarlo\n",
        "- Cuando se deben crear objetos relacionados entre sí\n",
        "- Cuando se desea soportar múltiples configuraciones (por ejemplo, temas de una GUI)\n"
      ]
    },
    {
      "cell_type": "markdown",
      "metadata": {
        "id": "pfkFwYKTuFNG"
      },
      "source": [
        "### Ejemplo"
      ]
    },
    {
      "cell_type": "code",
      "execution_count": null,
      "metadata": {
        "colab": {
          "base_uri": "https://localhost:8080/"
        },
        "id": "lM2X1M1AuExC",
        "outputId": "875ae918-689f-4605-ad76-1e841c7e4dc5"
      },
      "outputs": [
        {
          "name": "stdout",
          "output_type": "stream",
          "text": [
            "Botón estilo MacOS\n",
            "Checkbox estilo MacOS\n"
          ]
        }
      ],
      "source": [
        "# Abstract Products\n",
        "class Button(ABC):\n",
        "    @abstractmethod\n",
        "    def render(self):\n",
        "        pass\n",
        "\n",
        "class Checkbox(ABC):\n",
        "    @abstractmethod\n",
        "    def render(self):\n",
        "        pass\n",
        "\n",
        "# Concrete Products - Windows\n",
        "class WindowsButton(Button):\n",
        "    def render(self):\n",
        "        return \"Botón estilo Windows\"\n",
        "\n",
        "class WindowsCheckbox(Checkbox):\n",
        "    def render(self):\n",
        "        return \"Checkbox estilo Windows\"\n",
        "\n",
        "# Concrete Products - MacOS\n",
        "class MacButton(Button):\n",
        "    def render(self):\n",
        "        return \"Botón estilo MacOS\"\n",
        "\n",
        "class MacCheckbox(Checkbox):\n",
        "    def render(self):\n",
        "        return \"Checkbox estilo MacOS\"\n",
        "\n",
        "# Abstract Factory\n",
        "class GUIFactory(ABC):\n",
        "    @abstractmethod\n",
        "    def create_button(self) -> Button:\n",
        "        pass\n",
        "\n",
        "    @abstractmethod\n",
        "    def create_checkbox(self) -> Checkbox:\n",
        "        pass\n",
        "\n",
        "# Concrete Factories\n",
        "class WindowsFactory(GUIFactory):\n",
        "    def create_button(self):\n",
        "        return WindowsButton()\n",
        "\n",
        "    def create_checkbox(self):\n",
        "        return WindowsCheckbox()\n",
        "\n",
        "class MacFactory(GUIFactory):\n",
        "    def create_button(self):\n",
        "        return MacButton()\n",
        "\n",
        "    def create_checkbox(self):\n",
        "        return MacCheckbox()\n",
        "\n",
        "# Cliente\n",
        "class Application:\n",
        "    def __init__(self, factory: GUIFactory):\n",
        "        self.button = factory.create_button()\n",
        "        self.checkbox = factory.create_checkbox()\n",
        "\n",
        "    def render(self):\n",
        "        print(self.button.render())\n",
        "        print(self.checkbox.render())\n",
        "\n",
        "# Uso\n",
        "factory = MacFactory()\n",
        "app = Application(factory)\n",
        "app.render()"
      ]
    },
    {
      "cell_type": "markdown",
      "metadata": {
        "id": "Eyj1-kYGuM3u"
      },
      "source": [
        "## Conclusión\n",
        "- Usa **Factory Method** para encapsular la lógica de creación cuando tienes muchas subclases de un mismo tipo base.\n",
        "- Usa **Abstract Factory** cuando necesitas crear familias de objetos relacionados.\n",
        "\n",
        "Ambos patrones ayudan a mantener tu sistema desacoplado y más flexible ante cambios futuros.\n"
      ]
    }
  ],
  "metadata": {
    "colab": {
      "provenance": []
    },
    "kernelspec": {
      "display_name": "Python 3",
      "name": "python3"
    },
    "language_info": {
      "name": "python"
    }
  },
  "nbformat": 4,
  "nbformat_minor": 0
}
